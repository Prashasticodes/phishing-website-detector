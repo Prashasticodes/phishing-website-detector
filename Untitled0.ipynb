{
  "cells": [
    {
      "cell_type": "markdown",
      "metadata": {
        "id": "view-in-github",
        "colab_type": "text"
      },
      "source": [
        "<a href=\"https://colab.research.google.com/github/Prashasticodes/phishing-website-detector/blob/main/Untitled0.ipynb\" target=\"_parent\"><img src=\"https://colab.research.google.com/assets/colab-badge.svg\" alt=\"Open In Colab\"/></a>"
      ]
    },
    {
      "cell_type": "code",
      "execution_count": 3,
      "metadata": {
        "colab": {
          "base_uri": "https://localhost:8080/"
        },
        "id": "dAJLIeHE9Gpt",
        "outputId": "7a469834-9897-4f9a-e40a-4fd9321a98e0"
      },
      "outputs": [
        {
          "output_type": "stream",
          "name": "stdout",
          "text": [
            "Requirement already satisfied: kagglehub in /usr/local/lib/python3.10/dist-packages (0.3.1)\n",
            "Requirement already satisfied: packaging in /usr/local/lib/python3.10/dist-packages (from kagglehub) (24.1)\n",
            "Requirement already satisfied: requests in /usr/local/lib/python3.10/dist-packages (from kagglehub) (2.32.3)\n",
            "Requirement already satisfied: tqdm in /usr/local/lib/python3.10/dist-packages (from kagglehub) (4.66.5)\n",
            "Requirement already satisfied: charset-normalizer<4,>=2 in /usr/local/lib/python3.10/dist-packages (from requests->kagglehub) (3.4.0)\n",
            "Requirement already satisfied: idna<4,>=2.5 in /usr/local/lib/python3.10/dist-packages (from requests->kagglehub) (3.10)\n",
            "Requirement already satisfied: urllib3<3,>=1.21.1 in /usr/local/lib/python3.10/dist-packages (from requests->kagglehub) (2.2.3)\n",
            "Requirement already satisfied: certifi>=2017.4.17 in /usr/local/lib/python3.10/dist-packages (from requests->kagglehub) (2024.8.30)\n",
            "Downloading from https://www.kaggle.com/api/v1/datasets/download/eswarchandt/phishing-website-detector?dataset_version_number=3...\n"
          ]
        },
        {
          "output_type": "stream",
          "name": "stderr",
          "text": [
            "100%|██████████| 197k/197k [00:00<00:00, 396kB/s]"
          ]
        },
        {
          "output_type": "stream",
          "name": "stdout",
          "text": [
            "Extracting files...\n",
            "Path to dataset files: /root/.cache/kagglehub/datasets/eswarchandt/phishing-website-detector/versions/3\n",
            "   Index  UsingIP  LongURL  ShortURL  Symbol@  Redirecting//  PrefixSuffix-  \\\n",
            "0      0        1        1         1        1              1             -1   \n",
            "1      1        1        0         1        1              1             -1   \n",
            "2      2        1        0         1        1              1             -1   \n",
            "3      3        1        0        -1        1              1             -1   \n",
            "4      4       -1        0        -1        1             -1             -1   \n",
            "\n",
            "   SubDomains  HTTPS  DomainRegLen  ...  UsingPopupWindow  IframeRedirection  \\\n",
            "0           0      1            -1  ...                 1                  1   \n",
            "1          -1     -1            -1  ...                 1                  1   \n",
            "2          -1     -1             1  ...                 1                  1   \n",
            "3           1      1            -1  ...                -1                  1   \n",
            "4           1      1            -1  ...                 1                  1   \n",
            "\n",
            "   AgeofDomain  DNSRecording  WebsiteTraffic  PageRank  GoogleIndex  \\\n",
            "0           -1            -1               0        -1            1   \n",
            "1            1            -1               1        -1            1   \n",
            "2           -1            -1               1        -1            1   \n",
            "3           -1            -1               0        -1            1   \n",
            "4            1             1               1        -1            1   \n",
            "\n",
            "   LinksPointingToPage  StatsReport  class  \n",
            "0                    1            1     -1  \n",
            "1                    0           -1     -1  \n",
            "2                   -1            1     -1  \n",
            "3                    1            1      1  \n",
            "4                   -1           -1      1  \n",
            "\n",
            "[5 rows x 32 columns]\n"
          ]
        },
        {
          "output_type": "stream",
          "name": "stderr",
          "text": [
            "\n"
          ]
        }
      ],
      "source": [
        "# First, install kagglehub if you haven't already\n",
        "!pip install kagglehub\n",
        "\n",
        "# Import necessary libraries\n",
        "import kagglehub\n",
        "\n",
        "# Download the latest version of the dataset\n",
        "path = kagglehub.dataset_download(\"eswarchandt/phishing-website-detector\")\n",
        "\n",
        "# Print the path to the downloaded dataset files\n",
        "print(\"Path to dataset files:\", path)\n",
        "\n",
        "# Load the dataset\n",
        "import pandas as pd\n",
        "import os\n",
        "\n",
        "# Assuming the dataset contains a CSV file, replace 'filename.csv' with the actual filename\n",
        "csv_file_path = os.path.join(path, 'phishing.csv')  # Adjust the filename if necessary\n",
        "\n",
        "# Load the CSV into a DataFrame\n",
        "data = pd.read_csv(csv_file_path)\n",
        "\n",
        "# Display the first few rows of the dataset\n",
        "print(data.head())\n"
      ]
    },
    {
      "cell_type": "code",
      "execution_count": 4,
      "metadata": {
        "colab": {
          "base_uri": "https://localhost:8080/"
        },
        "id": "9rXwEKEe9MLD",
        "outputId": "d12ba5f3-b59e-4ddf-e1c7-ef5055aff5f8"
      },
      "outputs": [
        {
          "output_type": "execute_result",
          "data": {
            "text/plain": [
              "(11054, 32)"
            ]
          },
          "metadata": {},
          "execution_count": 4
        }
      ],
      "source": [
        "data.shape"
      ]
    },
    {
      "cell_type": "code",
      "execution_count": 5,
      "metadata": {
        "colab": {
          "base_uri": "https://localhost:8080/"
        },
        "id": "NbFAWYB_LFRU",
        "outputId": "f8af0fbc-82d3-4bae-ae75-9a7c3e5a6270"
      },
      "outputs": [
        {
          "output_type": "stream",
          "name": "stdout",
          "text": [
            "Requirement already satisfied: kaggle in /usr/local/lib/python3.10/dist-packages (1.6.17)\n",
            "Requirement already satisfied: six>=1.10 in /usr/local/lib/python3.10/dist-packages (from kaggle) (1.16.0)\n",
            "Requirement already satisfied: certifi>=2023.7.22 in /usr/local/lib/python3.10/dist-packages (from kaggle) (2024.8.30)\n",
            "Requirement already satisfied: python-dateutil in /usr/local/lib/python3.10/dist-packages (from kaggle) (2.8.2)\n",
            "Requirement already satisfied: requests in /usr/local/lib/python3.10/dist-packages (from kaggle) (2.32.3)\n",
            "Requirement already satisfied: tqdm in /usr/local/lib/python3.10/dist-packages (from kaggle) (4.66.5)\n",
            "Requirement already satisfied: python-slugify in /usr/local/lib/python3.10/dist-packages (from kaggle) (8.0.4)\n",
            "Requirement already satisfied: urllib3 in /usr/local/lib/python3.10/dist-packages (from kaggle) (2.2.3)\n",
            "Requirement already satisfied: bleach in /usr/local/lib/python3.10/dist-packages (from kaggle) (6.1.0)\n",
            "Requirement already satisfied: webencodings in /usr/local/lib/python3.10/dist-packages (from bleach->kaggle) (0.5.1)\n",
            "Requirement already satisfied: text-unidecode>=1.3 in /usr/local/lib/python3.10/dist-packages (from python-slugify->kaggle) (1.3)\n",
            "Requirement already satisfied: charset-normalizer<4,>=2 in /usr/local/lib/python3.10/dist-packages (from requests->kaggle) (3.4.0)\n",
            "Requirement already satisfied: idna<4,>=2.5 in /usr/local/lib/python3.10/dist-packages (from requests->kaggle) (3.10)\n",
            "Requirement already satisfied: kagglehub in /usr/local/lib/python3.10/dist-packages (0.3.1)\n",
            "Requirement already satisfied: packaging in /usr/local/lib/python3.10/dist-packages (from kagglehub) (24.1)\n",
            "Requirement already satisfied: requests in /usr/local/lib/python3.10/dist-packages (from kagglehub) (2.32.3)\n",
            "Requirement already satisfied: tqdm in /usr/local/lib/python3.10/dist-packages (from kagglehub) (4.66.5)\n",
            "Requirement already satisfied: charset-normalizer<4,>=2 in /usr/local/lib/python3.10/dist-packages (from requests->kagglehub) (3.4.0)\n",
            "Requirement already satisfied: idna<4,>=2.5 in /usr/local/lib/python3.10/dist-packages (from requests->kagglehub) (3.10)\n",
            "Requirement already satisfied: urllib3<3,>=1.21.1 in /usr/local/lib/python3.10/dist-packages (from requests->kagglehub) (2.2.3)\n",
            "Requirement already satisfied: certifi>=2017.4.17 in /usr/local/lib/python3.10/dist-packages (from requests->kagglehub) (2024.8.30)\n",
            "Path to dataset files: /root/.cache/kagglehub/datasets/eswarchandt/phishing-website-detector/versions/3\n",
            "   Index  UsingIP  LongURL  ShortURL  Symbol@  Redirecting//  PrefixSuffix-  \\\n",
            "0      0        1        1         1        1              1             -1   \n",
            "1      1        1        0         1        1              1             -1   \n",
            "2      2        1        0         1        1              1             -1   \n",
            "3      3        1        0        -1        1              1             -1   \n",
            "4      4       -1        0        -1        1             -1             -1   \n",
            "\n",
            "   SubDomains  HTTPS  DomainRegLen  ...  UsingPopupWindow  IframeRedirection  \\\n",
            "0           0      1            -1  ...                 1                  1   \n",
            "1          -1     -1            -1  ...                 1                  1   \n",
            "2          -1     -1             1  ...                 1                  1   \n",
            "3           1      1            -1  ...                -1                  1   \n",
            "4           1      1            -1  ...                 1                  1   \n",
            "\n",
            "   AgeofDomain  DNSRecording  WebsiteTraffic  PageRank  GoogleIndex  \\\n",
            "0           -1            -1               0        -1            1   \n",
            "1            1            -1               1        -1            1   \n",
            "2           -1            -1               1        -1            1   \n",
            "3           -1            -1               0        -1            1   \n",
            "4            1             1               1        -1            1   \n",
            "\n",
            "   LinksPointingToPage  StatsReport  class  \n",
            "0                    1            1     -1  \n",
            "1                    0           -1     -1  \n",
            "2                   -1            1     -1  \n",
            "3                    1            1      1  \n",
            "4                   -1           -1      1  \n",
            "\n",
            "[5 rows x 32 columns]\n"
          ]
        }
      ],
      "source": [
        "# Install kaggle and necessary libraries\n",
        "!pip install kaggle\n",
        "!pip install kagglehub\n",
        "\n",
        "# Import kagglehub\n",
        "import kagglehub\n",
        "\n",
        "# Download the dataset from Kaggle using kagglehub\n",
        "path = kagglehub.dataset_download(\"eswarchandt/phishing-website-detector\")\n",
        "\n",
        "# Print the path to dataset files\n",
        "print(\"Path to dataset files:\", path)\n",
        "\n",
        "# Import necessary libraries\n",
        "import pandas as pd\n",
        "import numpy as np\n",
        "from sklearn.model_selection import train_test_split\n",
        "from sklearn.ensemble import RandomForestClassifier\n",
        "from sklearn.metrics import accuracy_score, confusion_matrix, classification_report\n",
        "import pickle\n",
        "\n",
        "# Load the dataset\n",
        "import os\n",
        "csv_file_path = os.path.join(path, 'phishing.csv')  # Adjust the filename if necessary\n",
        "data = pd.read_csv(csv_file_path)\n",
        "\n",
        "# Display the first few rows of the dataset\n",
        "print(data.head())\n"
      ]
    },
    {
      "cell_type": "code",
      "execution_count": 6,
      "metadata": {
        "colab": {
          "base_uri": "https://localhost:8080/"
        },
        "id": "TOchQtvGLh1w",
        "outputId": "026a7f1d-ebab-4c3c-f7ed-6c687ad07931"
      },
      "outputs": [
        {
          "output_type": "stream",
          "name": "stdout",
          "text": [
            "<class 'pandas.core.frame.DataFrame'>\n",
            "RangeIndex: 11054 entries, 0 to 11053\n",
            "Data columns (total 32 columns):\n",
            " #   Column               Non-Null Count  Dtype\n",
            "---  ------               --------------  -----\n",
            " 0   Index                11054 non-null  int64\n",
            " 1   UsingIP              11054 non-null  int64\n",
            " 2   LongURL              11054 non-null  int64\n",
            " 3   ShortURL             11054 non-null  int64\n",
            " 4   Symbol@              11054 non-null  int64\n",
            " 5   Redirecting//        11054 non-null  int64\n",
            " 6   PrefixSuffix-        11054 non-null  int64\n",
            " 7   SubDomains           11054 non-null  int64\n",
            " 8   HTTPS                11054 non-null  int64\n",
            " 9   DomainRegLen         11054 non-null  int64\n",
            " 10  Favicon              11054 non-null  int64\n",
            " 11  NonStdPort           11054 non-null  int64\n",
            " 12  HTTPSDomainURL       11054 non-null  int64\n",
            " 13  RequestURL           11054 non-null  int64\n",
            " 14  AnchorURL            11054 non-null  int64\n",
            " 15  LinksInScriptTags    11054 non-null  int64\n",
            " 16  ServerFormHandler    11054 non-null  int64\n",
            " 17  InfoEmail            11054 non-null  int64\n",
            " 18  AbnormalURL          11054 non-null  int64\n",
            " 19  WebsiteForwarding    11054 non-null  int64\n",
            " 20  StatusBarCust        11054 non-null  int64\n",
            " 21  DisableRightClick    11054 non-null  int64\n",
            " 22  UsingPopupWindow     11054 non-null  int64\n",
            " 23  IframeRedirection    11054 non-null  int64\n",
            " 24  AgeofDomain          11054 non-null  int64\n",
            " 25  DNSRecording         11054 non-null  int64\n",
            " 26  WebsiteTraffic       11054 non-null  int64\n",
            " 27  PageRank             11054 non-null  int64\n",
            " 28  GoogleIndex          11054 non-null  int64\n",
            " 29  LinksPointingToPage  11054 non-null  int64\n",
            " 30  StatsReport          11054 non-null  int64\n",
            " 31  class                11054 non-null  int64\n",
            "dtypes: int64(32)\n",
            "memory usage: 2.7 MB\n",
            "None\n",
            "   Index  UsingIP  LongURL  ShortURL  Symbol@  Redirecting//  PrefixSuffix-  \\\n",
            "0      0        1        1         1        1              1             -1   \n",
            "1      1        1        0         1        1              1             -1   \n",
            "2      2        1        0         1        1              1             -1   \n",
            "3      3        1        0        -1        1              1             -1   \n",
            "4      4       -1        0        -1        1             -1             -1   \n",
            "\n",
            "   SubDomains  HTTPS  DomainRegLen  ...  UsingPopupWindow  IframeRedirection  \\\n",
            "0           0      1            -1  ...                 1                  1   \n",
            "1          -1     -1            -1  ...                 1                  1   \n",
            "2          -1     -1             1  ...                 1                  1   \n",
            "3           1      1            -1  ...                -1                  1   \n",
            "4           1      1            -1  ...                 1                  1   \n",
            "\n",
            "   AgeofDomain  DNSRecording  WebsiteTraffic  PageRank  GoogleIndex  \\\n",
            "0           -1            -1               0        -1            1   \n",
            "1            1            -1               1        -1            1   \n",
            "2           -1            -1               1        -1            1   \n",
            "3           -1            -1               0        -1            1   \n",
            "4            1             1               1        -1            1   \n",
            "\n",
            "   LinksPointingToPage  StatsReport  class  \n",
            "0                    1            1     -1  \n",
            "1                    0           -1     -1  \n",
            "2                   -1            1     -1  \n",
            "3                    1            1      1  \n",
            "4                   -1           -1      1  \n",
            "\n",
            "[5 rows x 32 columns]\n",
            "Accuracy: 96.97%\n",
            "Confusion Matrix:\n",
            "[[ 938   38]\n",
            " [  29 1206]]\n",
            "Classification Report:\n",
            "              precision    recall  f1-score   support\n",
            "\n",
            "          -1       0.97      0.96      0.97       976\n",
            "           1       0.97      0.98      0.97      1235\n",
            "\n",
            "    accuracy                           0.97      2211\n",
            "   macro avg       0.97      0.97      0.97      2211\n",
            "weighted avg       0.97      0.97      0.97      2211\n",
            "\n"
          ]
        }
      ],
      "source": [
        "# Step 1: Check the dataset structure\n",
        "print(data.info())\n",
        "print(data.head())\n",
        "\n",
        "# Step 2: Prepare the features (X) and target (y)\n",
        "X = data.drop(columns=['class'])  # Drop the target column\n",
        "y = data['class']  # Target column\n",
        "\n",
        "# Step 3: Split the data into training and testing sets (80% train, 20% test)\n",
        "X_train, X_test, y_train, y_test = train_test_split(X, y, test_size=0.2, random_state=42)\n",
        "\n",
        "# Step 4: Build and Train the Model\n",
        "# Initialize the Random Forest classifier\n",
        "rf_model = RandomForestClassifier(n_estimators=100, random_state=42)\n",
        "\n",
        "# Train the model\n",
        "rf_model.fit(X_train, y_train)\n",
        "\n",
        "# Step 5: Model Evaluation\n",
        "# Make predictions on the test set\n",
        "y_pred = rf_model.predict(X_test)\n",
        "\n",
        "# Calculate accuracy\n",
        "accuracy = accuracy_score(y_test, y_pred)\n",
        "print(f\"Accuracy: {accuracy * 100:.2f}%\")\n",
        "\n",
        "# Confusion matrix\n",
        "conf_matrix = confusion_matrix(y_test, y_pred)\n",
        "print(\"Confusion Matrix:\")\n",
        "print(conf_matrix)\n",
        "\n",
        "# Classification report\n",
        "print(\"Classification Report:\")\n",
        "print(classification_report(y_test, y_pred))\n",
        "\n",
        "# Step 6: Save the model for future use\n",
        "with open('phishing_detector_model.pkl', 'wb') as f:\n",
        "    pickle.dump(rf_model, f)\n",
        "\n",
        "# Load the model to test it\n",
        "with open('phishing_detector_model.pkl', 'rb') as f:\n",
        "    loaded_model = pickle.load(f)\n"
      ]
    },
    {
      "cell_type": "code",
      "execution_count": 7,
      "metadata": {
        "colab": {
          "base_uri": "https://localhost:8080/"
        },
        "id": "SdyNFfe6L9Ey",
        "outputId": "22abf496-c11e-479f-91f9-8ef0f1b4d819"
      },
      "outputs": [
        {
          "output_type": "stream",
          "name": "stdout",
          "text": [
            "Index(['Index', 'UsingIP', 'LongURL', 'ShortURL', 'Symbol@', 'Redirecting//',\n",
            "       'PrefixSuffix-', 'SubDomains', 'HTTPS', 'DomainRegLen', 'Favicon',\n",
            "       'NonStdPort', 'HTTPSDomainURL', 'RequestURL', 'AnchorURL',\n",
            "       'LinksInScriptTags', 'ServerFormHandler', 'InfoEmail', 'AbnormalURL',\n",
            "       'WebsiteForwarding', 'StatusBarCust', 'DisableRightClick',\n",
            "       'UsingPopupWindow', 'IframeRedirection', 'AgeofDomain', 'DNSRecording',\n",
            "       'WebsiteTraffic', 'PageRank', 'GoogleIndex', 'LinksPointingToPage',\n",
            "       'StatsReport'],\n",
            "      dtype='object')\n"
          ]
        }
      ],
      "source": [
        "print(X.columns)"
      ]
    },
    {
      "cell_type": "code",
      "execution_count": 8,
      "metadata": {
        "colab": {
          "base_uri": "https://localhost:8080/"
        },
        "id": "66WO-yFUNh__",
        "outputId": "68d89cf3-5f7c-4c10-8e9f-e160301ff378"
      },
      "outputs": [
        {
          "output_type": "stream",
          "name": "stdout",
          "text": [
            "Index(['Index', 'UsingIP', 'LongURL', 'ShortURL', 'Symbol@', 'Redirecting//',\n",
            "       'PrefixSuffix-', 'SubDomains', 'HTTPS', 'DomainRegLen', 'Favicon',\n",
            "       'NonStdPort', 'HTTPSDomainURL', 'RequestURL', 'AnchorURL',\n",
            "       'LinksInScriptTags', 'ServerFormHandler', 'InfoEmail', 'AbnormalURL',\n",
            "       'WebsiteForwarding', 'StatusBarCust', 'DisableRightClick',\n",
            "       'UsingPopupWindow', 'IframeRedirection', 'AgeofDomain', 'DNSRecording',\n",
            "       'WebsiteTraffic', 'PageRank', 'GoogleIndex', 'LinksPointingToPage',\n",
            "       'StatsReport', 'class'],\n",
            "      dtype='object')\n",
            "   UsingIP  LongURL  ShortURL  Symbol@  Redirecting//  PrefixSuffix-  \\\n",
            "0        1        1         1        1              1             -1   \n",
            "1        1        0         1        1              1             -1   \n",
            "2        1        0         1        1              1             -1   \n",
            "3        1        0        -1        1              1             -1   \n",
            "4       -1        0        -1        1             -1             -1   \n",
            "\n",
            "   SubDomains  HTTPS  DomainRegLen  Favicon  ...  DisableRightClick  \\\n",
            "0           0      1            -1        1  ...                  1   \n",
            "1          -1     -1            -1        1  ...                  1   \n",
            "2          -1     -1             1        1  ...                  1   \n",
            "3           1      1            -1        1  ...                  1   \n",
            "4           1      1            -1        1  ...                  1   \n",
            "\n",
            "   UsingPopupWindow  IframeRedirection  AgeofDomain  DNSRecording  \\\n",
            "0                 1                  1           -1            -1   \n",
            "1                 1                  1            1            -1   \n",
            "2                 1                  1           -1            -1   \n",
            "3                -1                  1           -1            -1   \n",
            "4                 1                  1            1             1   \n",
            "\n",
            "   WebsiteTraffic  PageRank  GoogleIndex  LinksPointingToPage  StatsReport  \n",
            "0               0        -1            1                    1            1  \n",
            "1               1        -1            1                    0           -1  \n",
            "2               1        -1            1                   -1            1  \n",
            "3               0        -1            1                    1            1  \n",
            "4               1        -1            1                   -1           -1  \n",
            "\n",
            "[5 rows x 30 columns]\n",
            "0   -1\n",
            "1   -1\n",
            "2   -1\n",
            "3    1\n",
            "4    1\n",
            "Name: class, dtype: int64\n",
            "Accuracy: 96.92%\n",
            "Confusion Matrix:\n",
            "[[ 937   39]\n",
            " [  29 1206]]\n",
            "Classification Report:\n",
            "              precision    recall  f1-score   support\n",
            "\n",
            "          -1       0.97      0.96      0.96       976\n",
            "           1       0.97      0.98      0.97      1235\n",
            "\n",
            "    accuracy                           0.97      2211\n",
            "   macro avg       0.97      0.97      0.97      2211\n",
            "weighted avg       0.97      0.97      0.97      2211\n",
            "\n",
            "The URL is legitimate.\n"
          ]
        }
      ],
      "source": [
        "\n",
        "\n",
        "# Step 1: Preprocessing (We won't need to preprocess text in this case, as the features are numeric already)\n",
        "# Checking column names and ensuring the correct columns are used\n",
        "print(data.columns)\n",
        "\n",
        "# Step 2: Feature Engineering\n",
        "# Define relevant feature columns based on the dataset you provided\n",
        "feature_columns = ['UsingIP', 'LongURL', 'ShortURL', 'Symbol@', 'Redirecting//',\n",
        "                   'PrefixSuffix-', 'SubDomains', 'HTTPS', 'DomainRegLen', 'Favicon',\n",
        "                   'NonStdPort', 'HTTPSDomainURL', 'RequestURL', 'AnchorURL',\n",
        "                   'LinksInScriptTags', 'ServerFormHandler', 'InfoEmail', 'AbnormalURL',\n",
        "                   'WebsiteForwarding', 'StatusBarCust', 'DisableRightClick',\n",
        "                   'UsingPopupWindow', 'IframeRedirection', 'AgeofDomain', 'DNSRecording',\n",
        "                   'WebsiteTraffic', 'PageRank', 'GoogleIndex', 'LinksPointingToPage',\n",
        "                   'StatsReport']\n",
        "\n",
        "# The target column\n",
        "target_column = 'class'  # Adjust if necessary\n",
        "\n",
        "# Select features (X) and the target (y)\n",
        "X = data[feature_columns]\n",
        "y = data[target_column]\n",
        "\n",
        "# Check the first few rows of X and y\n",
        "print(X.head())\n",
        "print(y.head())\n",
        "\n",
        "# Step 3: Prepare data for model training\n",
        "# Split the data into training and testing sets (80% training, 20% testing)\n",
        "X_train, X_test, y_train, y_test = train_test_split(X, y, test_size=0.2, random_state=42)\n",
        "\n",
        "# Step 4: Build and Train the Model\n",
        "# Initialize the Random Forest classifier\n",
        "rf_model = RandomForestClassifier(n_estimators=100, random_state=42)\n",
        "\n",
        "# Train the model\n",
        "rf_model.fit(X_train, y_train)\n",
        "\n",
        "# Step 5: Model Evaluation\n",
        "# Make predictions on the test set\n",
        "y_pred = rf_model.predict(X_test)\n",
        "\n",
        "# Calculate accuracy\n",
        "accuracy = accuracy_score(y_test, y_pred)\n",
        "print(f\"Accuracy: {accuracy * 100:.2f}%\")\n",
        "\n",
        "# Confusion matrix\n",
        "conf_matrix = confusion_matrix(y_test, y_pred)\n",
        "print(\"Confusion Matrix:\")\n",
        "print(conf_matrix)\n",
        "\n",
        "# Classification report\n",
        "print(\"Classification Report:\")\n",
        "print(classification_report(y_test, y_pred))\n",
        "\n",
        "# Step 6: Save the model for future use\n",
        "# Save the trained model\n",
        "with open('phishing_detector_model.pkl', 'wb') as f:\n",
        "    pickle.dump(rf_model, f)\n",
        "\n",
        "# Load the model to test if it works\n",
        "with open('phishing_detector_model.pkl', 'rb') as f:\n",
        "    loaded_model = pickle.load(f)\n",
        "\n",
        "# Step 7: Test the loaded model with a new sample\n",
        "# Create a new sample with similar features\n",
        "new_sample = {\n",
        "    'UsingIP': 1, 'LongURL': 0, 'ShortURL': 1, 'Symbol@': 1, 'Redirecting//': 1,\n",
        "    'PrefixSuffix-': 1, 'SubDomains': 0, 'HTTPS': 1, 'DomainRegLen': -1, 'Favicon': 1,\n",
        "    'NonStdPort': 0, 'HTTPSDomainURL': 1, 'RequestURL': 1, 'AnchorURL': -1,\n",
        "    'LinksInScriptTags': 0, 'ServerFormHandler': -1, 'InfoEmail': 1, 'AbnormalURL': -1,\n",
        "    'WebsiteForwarding': 1, 'StatusBarCust': 1, 'DisableRightClick': 1,\n",
        "    'UsingPopupWindow': 0, 'IframeRedirection': -1, 'AgeofDomain': 1, 'DNSRecording': 1,\n",
        "    'WebsiteTraffic': 0, 'PageRank': -1, 'GoogleIndex': 1, 'LinksPointingToPage': -1,\n",
        "    'StatsReport': 1\n",
        "}\n",
        "\n",
        "# Convert the new sample into a DataFrame with the correct column names\n",
        "new_sample_df = pd.DataFrame([new_sample], columns=feature_columns)\n",
        "\n",
        "# Predict using the loaded model\n",
        "new_prediction = loaded_model.predict(new_sample_df)\n",
        "print(f\"The URL is {'phishing' if new_prediction[0] == -1 else 'legitimate'}.\")\n"
      ]
    },
    {
      "cell_type": "code",
      "execution_count": 9,
      "metadata": {
        "colab": {
          "base_uri": "https://localhost:8080/"
        },
        "id": "DQvQdSxIN_Qm",
        "outputId": "273f7bbd-e85b-4b04-97fa-06f1b7dd26ab"
      },
      "outputs": [
        {
          "output_type": "stream",
          "name": "stdout",
          "text": [
            "Accuracy: 96.92%\n"
          ]
        }
      ],
      "source": [
        "# Step 5: Model Evaluation\n",
        "# Make predictions on the test set\n",
        "y_pred = rf_model.predict(X_test)\n",
        "\n",
        "# Calculate accuracy\n",
        "accuracy = accuracy_score(y_test, y_pred)\n",
        "print(f\"Accuracy: {accuracy * 100:.2f}%\")  # Convert to percentage\n"
      ]
    },
    {
      "cell_type": "code",
      "execution_count": 10,
      "metadata": {
        "colab": {
          "base_uri": "https://localhost:8080/"
        },
        "id": "yrtsJpiAO_vU",
        "outputId": "0862996e-301d-487e-ce54-6d985214ebd6"
      },
      "outputs": [
        {
          "output_type": "stream",
          "name": "stdout",
          "text": [
            "R² Score: 0.4741\n"
          ]
        }
      ],
      "source": [
        "# Import necessary libraries\n",
        "from sklearn.ensemble import RandomForestClassifier\n",
        "from sklearn.metrics import r2_score\n",
        "\n",
        "# Assuming you have already prepared your data\n",
        "X_train, X_test, y_train, y_test = train_test_split(X, y, test_size=0.2, random_state=42)\n",
        "\n",
        "# Train the Random Forest model\n",
        "rf_model = RandomForestClassifier(n_estimators=100, random_state=42)\n",
        "rf_model.fit(X_train, y_train)\n",
        "\n",
        "# Step 1: Predict probabilities for the positive class\n",
        "y_pred_proba = rf_model.predict_proba(X_test)[:, 1]  # Get probabilities for the positive class\n",
        "\n",
        "# Step 2: Calculate the R² score\n",
        "r2 = r2_score(y_test, y_pred_proba)\n",
        "\n",
        "print(f\"R² Score: {r2:.4f}\")\n"
      ]
    },
    {
      "cell_type": "code",
      "source": [
        "import pandas as pd\n",
        "import xgboost as xgb\n",
        "\n",
        "# Load your trained model here\n",
        "loaded_model = xgb.Booster()  # Replace with the actual loading method for your model\n",
        "\n",
        "# Function to preprocess and create feature vector\n",
        "def preprocess_url(url):\n",
        "    # Create a feature vector based on the dataset columns\n",
        "    features = {\n",
        "        'UsingIP': 0,  # Replace with your logic to set these values\n",
        "        'ShortURL': 0,  # Replace with your logic\n",
        "        'HTTPS': 0,  # Replace with your logic\n",
        "        'DomainRegLen': 0,  # Replace with your logic\n",
        "        # Add all other relevant features here, initialized as needed\n",
        "    }\n",
        "\n",
        "    # Example logic for setting features based on the URL\n",
        "    features['UsingIP'] = 1 if 'UsingIPLogic' in url else 0\n",
        "    features['ShortURL'] = 1 if len(url) < 20 else 0\n",
        "    features['HTTPS'] = 1 if url.startswith('https://') else 0\n",
        "    features['DomainRegLen'] = len(url)  # Example logic\n",
        "\n",
        "    # ... Add feature extraction logic for all other features used in training\n",
        "\n",
        "    # Get the feature names from the loaded model\n",
        "    expected_columns = loaded_model.feature_names\n",
        "\n",
        "    # Create DataFrame with the correct column names\n",
        "    feature_vector = pd.DataFrame([features], columns=expected_columns)\n",
        "\n",
        "    # Debugging: Print the feature vector before returning\n",
        "    print(\"Feature Vector:\")\n",
        "    print(feature_vector)\n",
        "    print(feature_vector.columns)\n",
        "    print(loaded_model.feature_names)\n",
        "\n",
        "    return feature_vector\n",
        "\n",
        "# Function to check URL\n",
        "def check_url(url):\n",
        "    # Process the URL to create feature vector\n",
        "    feature_vector = preprocess_url(url)\n",
        "\n",
        "    # Predict using the loaded model\n",
        "    dmatrix = xgb.DMatrix(feature_vector)\n",
        "    result = loaded_model.predict(dmatrix)\n",
        "\n",
        "    return \"Phishing\" if result[0] == 1 else \"Legitimate\"\n",
        "\n",
        "# Main loop to check URLs\n",
        "while True:\n",
        "    user_url = input(\"Please enter a URL to check (or type 'exit' to quit): \")\n",
        "    if user_url.lower() == 'exit':\n",
        "        break\n",
        "\n",
        "    result = check_url(user_url)\n",
        "    print(f\"The URL '{user_url}' is {result}.\")"
      ],
      "metadata": {
        "colab": {
          "base_uri": "https://localhost:8080/"
        },
        "id": "GiGCaTTv_zrj",
        "outputId": "5203f207-62d2-4d56-97ab-c818ce1e00c9"
      },
      "execution_count": 24,
      "outputs": [
        {
          "name": "stdout",
          "output_type": "stream",
          "text": [
            "Please enter a URL to check (or type 'exit' to quit): exit\n"
          ]
        }
      ]
    },
    {
      "cell_type": "code",
      "execution_count": null,
      "metadata": {
        "id": "3syOIEA4PfU7"
      },
      "outputs": [],
      "source": [
        "from sklearn.ensemble import RandomForestClassifier\n",
        "from sklearn.model_selection import GridSearchCV\n",
        "\n",
        "# Hyperparameter tuning using GridSearchCV to find the best parameters\n",
        "param_grid = {\n",
        "    'n_estimators': [50, 100, 200],  # Number of trees\n",
        "    'max_depth': [None, 5, 10, 20],  # Control the depth of the trees\n",
        "    'min_samples_split': [2, 5, 10],  # Minimum samples required to split an internal node\n",
        "    'min_samples_leaf': [1, 2, 4],    # Minimum samples required to be at a leaf node\n",
        "}\n",
        "\n",
        "grid_search = GridSearchCV(RandomForestClassifier(random_state=42), param_grid, cv=5)\n",
        "grid_search.fit(X_train, y_train)\n",
        "\n",
        "# Best parameters\n",
        "print(\"Best parameters found: \", grid_search.best_params_)\n",
        "rf_model = grid_search.best_estimator_\n",
        "\n",
        "# Evaluate the optimized model\n",
        "y_pred = rf_model.predict(X_test)\n",
        "accuracy = accuracy_score(y_test, y_pred)\n",
        "print(f\"Optimized Model Accuracy: {accuracy * 100:.2f}%\")\n"
      ]
    }
  ],
  "metadata": {
    "accelerator": "GPU",
    "colab": {
      "gpuType": "T4",
      "provenance": [],
      "authorship_tag": "ABX9TyPscJrOhfnNfvbgVUwghMN0",
      "include_colab_link": true
    },
    "kernelspec": {
      "display_name": "Python 3",
      "name": "python3"
    },
    "language_info": {
      "name": "python"
    }
  },
  "nbformat": 4,
  "nbformat_minor": 0
}